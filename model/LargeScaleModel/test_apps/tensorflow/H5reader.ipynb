{
 "cells": [
  {
   "cell_type": "code",
   "execution_count": 1,
   "id": "0ebcef73",
   "metadata": {},
   "outputs": [],
   "source": [
    "import h5py\n",
    "f = h5py.File('leNet/snn_lenet.h5', 'r')"
   ]
  },
  {
   "cell_type": "code",
   "execution_count": 2,
   "id": "66f222b6",
   "metadata": {},
   "outputs": [
    {
     "data": {
      "text/plain": [
       "['model_weights']"
      ]
     },
     "execution_count": 2,
     "metadata": {},
     "output_type": "execute_result"
    }
   ],
   "source": [
    "list(f.keys())"
   ]
  },
  {
   "cell_type": "code",
   "execution_count": 3,
   "id": "15772261",
   "metadata": {},
   "outputs": [
    {
     "name": "stdout",
     "output_type": "stream",
     "text": [
      "00Conv2D_24x24x6\n",
      "01AveragePooling2D_12x12x6\n",
      "02Conv2D_8x8x16\n",
      "03AveragePooling2D_4x4x16\n",
      "04Flatten_256\n",
      "05Dense_500\n",
      "06Dense_10\n",
      "input_1\n"
     ]
    },
    {
     "data": {
      "text/plain": [
       "<KeysViewHDF5 ['00Conv2D_24x24x6', 'dt:0', 'spiketrains:0', 'v_mem:0', 'v_thresh:0']>"
      ]
     },
     "execution_count": 3,
     "metadata": {},
     "output_type": "execute_result"
    }
   ],
   "source": [
    "weights = f['model_weights']\n",
    "for w in weights:\n",
    "    print(w)\n",
    "weights['00Conv2D_24x24x6'].keys()"
   ]
  },
  {
   "cell_type": "code",
   "execution_count": 11,
   "id": "f2b0f943",
   "metadata": {},
   "outputs": [
    {
     "data": {
      "text/plain": [
       "<HDF5 dataset \"v_mem:0\": shape (10, 24, 24, 6), type \"<f4\">"
      ]
     },
     "execution_count": 11,
     "metadata": {},
     "output_type": "execute_result"
    }
   ],
   "source": [
    "weights['00Conv2D_24x24x6']['v_mem:0']"
   ]
  },
  {
   "cell_type": "code",
   "execution_count": null,
   "id": "be53bb99",
   "metadata": {},
   "outputs": [],
   "source": []
  }
 ],
 "metadata": {
  "kernelspec": {
   "display_name": "Python [conda env:SpikingJellyenv] *",
   "language": "python",
   "name": "conda-env-SpikingJellyenv-py"
  },
  "language_info": {
   "codemirror_mode": {
    "name": "ipython",
    "version": 3
   },
   "file_extension": ".py",
   "mimetype": "text/x-python",
   "name": "python",
   "nbconvert_exporter": "python",
   "pygments_lexer": "ipython3",
   "version": "3.7.12"
  }
 },
 "nbformat": 4,
 "nbformat_minor": 5
}
