{
 "cells": [
  {
   "cell_type": "code",
   "execution_count": 16,
   "id": "fce855ee",
   "metadata": {},
   "outputs": [],
   "source": [
    "import torch"
   ]
  },
  {
   "cell_type": "code",
   "execution_count": 17,
   "id": "e6cbce68",
   "metadata": {},
   "outputs": [
    {
     "data": {
      "text/plain": [
       "Sequential(\n",
       "  (0): Flatten(start_dim=1, end_dim=-1)\n",
       "  (1): Linear(in_features=1024, out_features=64, bias=False)\n",
       "  (2): LIFNode(\n",
       "    v_threshold=1.0, v_reset=0.0, detach_reset=False, tau=2.0\n",
       "    (surrogate_function): Sigmoid(alpha=1.0, spiking=True)\n",
       "  )\n",
       "  (3): Linear(in_features=64, out_features=10, bias=False)\n",
       "  (4): LIFNode(\n",
       "    v_threshold=1.0, v_reset=0.0, detach_reset=False, tau=2.0\n",
       "    (surrogate_function): Sigmoid(alpha=1.0, spiking=True)\n",
       "  )\n",
       ")"
      ]
     },
     "execution_count": 17,
     "metadata": {},
     "output_type": "execute_result"
    }
   ],
   "source": [
    "model = torch.load(\"../Models/lif_snn_mnist.ckpt\")\n",
    "model.eval()"
   ]
  },
  {
   "cell_type": "code",
   "execution_count": 6,
   "id": "592bd4bf",
   "metadata": {},
   "outputs": [],
   "source": [
    "w_12 = model[1].weight.detach().cpu().numpy()"
   ]
  },
  {
   "cell_type": "code",
   "execution_count": 18,
   "id": "f3d188a9",
   "metadata": {},
   "outputs": [],
   "source": [
    "w_12 = model[1].weight.detach().cpu().numpy()\n",
    "w_23 = model[3].weight.detach().cpu().numpy()"
   ]
  },
  {
   "cell_type": "code",
   "execution_count": null,
   "id": "193bcd4f",
   "metadata": {},
   "outputs": [],
   "source": [
    "w_12 = model[1].weight.detach().cpu().numpy()\n",
    "w_23 = model[3].weight.detach().cpu().numpy()\n",
    "w_34 = model[5].weight.detach().cpu().numpy()"
   ]
  },
  {
   "cell_type": "code",
   "execution_count": 7,
   "id": "d750aacb",
   "metadata": {},
   "outputs": [
    {
     "name": "stdout",
     "output_type": "stream",
     "text": [
      "(10, 1024)\n"
     ]
    }
   ],
   "source": [
    "# print(w_12.shape, w_23.shape, w_34.shape)\n",
    "# print(w_12.shape, w_23.shape)\n",
    "print(w_12.shape)"
   ]
  },
  {
   "cell_type": "code",
   "execution_count": null,
   "id": "84684cc7",
   "metadata": {},
   "outputs": [],
   "source": [
    "f = open('../Models/MNIST_largescale_4/weights.txt', 'w')\n",
    "\n",
    "tmp = 1024\n",
    "tmp_1 = 0\n",
    "for i in range(1024):\n",
    "    print(i + tmp_1, file = f, end = \" \")\n",
    "    for j in range(256):\n",
    "        print(j + tmp, file = f, end = \" \");\n",
    "        print(w_12[j][i], file = f, end = \" \");\n",
    "    print(\"\", file = f)\n",
    "        \n",
    "tmp = 1024 + 256\n",
    "tmp_1 = 1024\n",
    "for i in range(256):\n",
    "    print(i + tmp_1, file = f, end = \" \")\n",
    "    for j in range(64):\n",
    "        print(j + tmp, file = f, end = \" \");\n",
    "        print(w_23[j][i], file = f, end = \" \");\n",
    "    print(\"\", file = f)\n",
    "    \n",
    "tmp = 1024 + 256 + 64\n",
    "tmp_1 = 1024 + 256\n",
    "for i in range(64):\n",
    "    print(i + tmp_1, file = f, end = \" \")\n",
    "    for j in range(10):\n",
    "        print(j + tmp, file = f, end = \" \");\n",
    "        print(w_34[j][i], file = f, end = \" \");\n",
    "    print(\"\", file = f)\n",
    "f.close()"
   ]
  },
  {
   "cell_type": "code",
   "execution_count": 11,
   "id": "39dc3772",
   "metadata": {},
   "outputs": [],
   "source": [
    "f = open('../Models/MNIST_largescale_3_2/weights.txt', 'w')\n",
    "\n",
    "tmp = 1024\n",
    "tmp_1 = 0\n",
    "for i in range(1024):\n",
    "    print(i + tmp_1, file = f, end = \" \")\n",
    "    for j in range(256):\n",
    "        print(j + tmp, file = f, end = \" \");\n",
    "        print(w_12[j][i], file = f, end = \" \");\n",
    "    print(\"\", file = f)\n",
    "        \n",
    "tmp = 1024 + 256\n",
    "tmp_1 = 1024\n",
    "for i in range(256):\n",
    "    print(i + tmp_1, file = f, end = \" \")\n",
    "    for j in range(10):\n",
    "        print(j + tmp, file = f, end = \" \");\n",
    "        print(w_23[j][i], file = f, end = \" \");\n",
    "    print(\"\", file = f)\n",
    "for i in range(10):\n",
    "    print(tmp + i, file = f)\n",
    "\n",
    "f.close()"
   ]
  },
  {
   "cell_type": "code",
   "execution_count": 19,
   "id": "961e9867",
   "metadata": {},
   "outputs": [],
   "source": [
    "f = open('../Models/MNIST_largescale_3/weights.txt', 'w')\n",
    "\n",
    "tmp = 1024\n",
    "tmp_1 = 0\n",
    "for i in range(1024):\n",
    "    print(i + tmp_1, file = f, end = \" \")\n",
    "    for j in range(64):\n",
    "        print(j + tmp, file = f, end = \" \");\n",
    "        print(w_12[j][i], file = f, end = \" \");\n",
    "    print(\"\", file = f)\n",
    "        \n",
    "tmp = 1024 + 64\n",
    "tmp_1 = 1024\n",
    "for i in range(64):\n",
    "    print(i + tmp_1, file = f, end = \" \")\n",
    "    for j in range(10):\n",
    "        print(j + tmp, file = f, end = \" \");\n",
    "        print(w_23[j][i], file = f, end = \" \");\n",
    "    print(\"\", file = f)\n",
    "for i in range(10):\n",
    "    print(tmp + i, file = f)\n",
    "\n",
    "f.close()"
   ]
  },
  {
   "cell_type": "code",
   "execution_count": 8,
   "id": "e1f74246",
   "metadata": {},
   "outputs": [],
   "source": [
    "f = open('../Models/MNIST_largescale_2/weights.txt', 'w')\n",
    "\n",
    "tmp = 1024\n",
    "tmp_1 = 0\n",
    "for i in range(1024):\n",
    "    print(i + tmp_1, file = f, end = \" \")\n",
    "    for j in range(10):\n",
    "        print(j + tmp, file = f, end = \" \");\n",
    "        print(w_12[j][i], file = f, end = \" \");\n",
    "    print(\"\", file = f)\n",
    "        \n",
    "for i in range(10):\n",
    "    print(tmp + i, file = f)\n",
    "\n",
    "f.close()"
   ]
  },
  {
   "cell_type": "code",
   "execution_count": null,
   "id": "7dc33cd2",
   "metadata": {},
   "outputs": [],
   "source": [
    "f = open('../Models/weights1.txt', 'w')\n",
    "for i in range(256):\n",
    "    for j in range(64):\n",
    "        print(w_12[j][i], file = f, end = ' ')\n",
    "    print(\"\", file = f)\n",
    "f.close()"
   ]
  },
  {
   "cell_type": "code",
   "execution_count": null,
   "id": "8efa9dee",
   "metadata": {},
   "outputs": [],
   "source": [
    "f = open('../Models/weights2.txt', 'w')\n",
    "for i in range(64):\n",
    "    for j in range(10):\n",
    "        print(w_23[j][i], file = f, end = ' ')\n",
    "    print(\"\", file = f)\n",
    "f.close()"
   ]
  },
  {
   "cell_type": "code",
   "execution_count": null,
   "id": "0025b4f0",
   "metadata": {},
   "outputs": [],
   "source": [
    "import torchvision\n",
    "\n",
    "test_dataset = torchvision.datasets.MNIST(\n",
    "        root=\"../Datasets/\",\n",
    "        train=False,\n",
    "        download=True,\n",
    "        transform=torchvision.transforms.Compose([\n",
    "            torchvision.transforms.Resize(16),\n",
    "            torchvision.transforms.ToTensor(),\n",
    "            torchvision.transforms.Normalize(\n",
    "                (0.1307,), (0.3081,))\n",
    "        ])\n",
    "    )\n",
    "\n",
    "test_data_loader = torch.utils.data.DataLoader(\n",
    "        dataset=test_dataset,\n",
    "        batch_size=64,\n",
    "        shuffle=False\n",
    ")"
   ]
  },
  {
   "cell_type": "code",
   "execution_count": null,
   "id": "d2b1bd44",
   "metadata": {},
   "outputs": [],
   "source": [
    "test_data_loader"
   ]
  },
  {
   "cell_type": "code",
   "execution_count": null,
   "id": "1d5923d0",
   "metadata": {},
   "outputs": [],
   "source": [
    "from spikingjelly.clock_driven import encoding\n",
    "encoder = encoding.PoissonEncoder()\n",
    "cnt = 0\n",
    "f1 = open('../Datasets/MNIST_16/input.txt', 'w')\n",
    "for img, label in test_data_loader:\n",
    "    cnt += 1\n",
    "    #if (cnt > 1):\n",
    "    #    break;\n",
    "    rg = 64\n",
    "    if (cnt > 156):\n",
    "        rg = 16\n",
    "    for i in range(rg):\n",
    "        for j in range(16):\n",
    "            for k in range(16): \n",
    "                print(int(encoder(img[i][0][j][k]).float().tolist()), file = f1, end = ' ')\n",
    "        print(\"\", file = f1)\n",
    "f1.close()\n",
    "print(cnt * 64)"
   ]
  },
  {
   "cell_type": "code",
   "execution_count": null,
   "id": "38741940",
   "metadata": {},
   "outputs": [],
   "source": [
    "f2 = open('../Datasets/MNIST_16/output.txt', 'w')\n",
    "cnt = 0;\n",
    "for img, label in test_data_loader:\n",
    "    cnt += 1\n",
    "    #if (cnt > 1):\n",
    "    #    break;\n",
    "    rg = 64\n",
    "    if (cnt > 156):\n",
    "        rg = 16\n",
    "    for i in range(rg):\n",
    "        a = int(label[i].tolist())\n",
    "        print(a, file = f2)\n",
    "f2.close()"
   ]
  },
  {
   "cell_type": "code",
   "execution_count": null,
   "id": "965f5b76",
   "metadata": {},
   "outputs": [],
   "source": [
    "import math\n",
    "device = torch.device('cpu')\n",
    "\n",
    "for p in model[1].parameters():\n",
    "    for v in p.data:\n",
    "        print(v)\n",
    "\n",
    "x = torch.Tensor([-1, -2, -3], device = device)\n",
    "x.apply_(lambda x: x if x >= 0 else 0.01 * math.exp(x))\n",
    "#for v in x:\n",
    "#    v = -v\n",
    "#    print(v)"
   ]
  },
  {
   "cell_type": "code",
   "execution_count": null,
   "id": "f7db6758",
   "metadata": {},
   "outputs": [],
   "source": []
  }
 ],
 "metadata": {
  "kernelspec": {
   "display_name": "Python [conda env:SpikingJellyenv] *",
   "language": "python",
   "name": "conda-env-SpikingJellyenv-py"
  },
  "language_info": {
   "codemirror_mode": {
    "name": "ipython",
    "version": 3
   },
   "file_extension": ".py",
   "mimetype": "text/x-python",
   "name": "python",
   "nbconvert_exporter": "python",
   "pygments_lexer": "ipython3",
   "version": "3.7.12"
  }
 },
 "nbformat": 4,
 "nbformat_minor": 5
}
