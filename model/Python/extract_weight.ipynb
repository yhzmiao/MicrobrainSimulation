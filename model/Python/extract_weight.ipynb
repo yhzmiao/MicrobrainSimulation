{
 "cells": [
  {
   "cell_type": "code",
   "execution_count": null,
   "id": "fce855ee",
   "metadata": {},
   "outputs": [],
   "source": [
    "import torch"
   ]
  },
  {
   "cell_type": "code",
   "execution_count": null,
   "id": "e6cbce68",
   "metadata": {},
   "outputs": [],
   "source": [
    "model = torch.load(\"../Models/lif_snn_mnist.ckpt\")\n",
    "model.eval()"
   ]
  },
  {
   "cell_type": "code",
   "execution_count": null,
   "id": "592bd4bf",
   "metadata": {},
   "outputs": [],
   "source": [
    "w_12 = model[1].weight.detach().cpu().numpy()"
   ]
  },
  {
   "cell_type": "code",
   "execution_count": null,
   "id": "f3d188a9",
   "metadata": {},
   "outputs": [],
   "source": [
    "w_12 = model[1].weight.detach().cpu().numpy()\n",
    "w_23 = model[3].weight.detach().cpu().numpy()"
   ]
  },
  {
   "cell_type": "code",
   "execution_count": null,
   "id": "193bcd4f",
   "metadata": {},
   "outputs": [],
   "source": [
    "w_12 = model[1].weight.detach().cpu().numpy()\n",
    "w_23 = model[3].weight.detach().cpu().numpy()\n",
    "w_34 = model[5].weight.detach().cpu().numpy()"
   ]
  },
  {
   "cell_type": "code",
   "execution_count": null,
   "id": "d750aacb",
   "metadata": {},
   "outputs": [],
   "source": [
    "# print(w_12.shape, w_23.shape, w_34.shape)\n",
    "# print(w_12.shape, w_23.shape)\n",
    "print(w_12.shape)"
   ]
  },
  {
   "cell_type": "code",
   "execution_count": null,
   "id": "84684cc7",
   "metadata": {},
   "outputs": [],
   "source": [
    "f = open('../Models/MNIST_largescale_4/weights.txt', 'w')\n",
    "\n",
    "tmp = 1024\n",
    "tmp_1 = 0\n",
    "for i in range(1024):\n",
    "    print(i + tmp_1, file = f, end = \" \")\n",
    "    for j in range(256):\n",
    "        print(j + tmp, file = f, end = \" \");\n",
    "        print(w_12[j][i], file = f, end = \" \");\n",
    "    print(\"\", file = f)\n",
    "        \n",
    "tmp = 1024 + 256\n",
    "tmp_1 = 1024\n",
    "for i in range(256):\n",
    "    print(i + tmp_1, file = f, end = \" \")\n",
    "    for j in range(64):\n",
    "        print(j + tmp, file = f, end = \" \");\n",
    "        print(w_23[j][i], file = f, end = \" \");\n",
    "    print(\"\", file = f)\n",
    "    \n",
    "tmp = 1024 + 256 + 64\n",
    "tmp_1 = 1024 + 256\n",
    "for i in range(64):\n",
    "    print(i + tmp_1, file = f, end = \" \")\n",
    "    for j in range(10):\n",
    "        print(j + tmp, file = f, end = \" \");\n",
    "        print(w_34[j][i], file = f, end = \" \");\n",
    "    print(\"\", file = f)\n",
    "f.close()"
   ]
  },
  {
   "cell_type": "code",
   "execution_count": null,
   "id": "39dc3772",
   "metadata": {},
   "outputs": [],
   "source": [
    "f = open('../Models/MNIST_largescale_3_2/weights.txt', 'w')\n",
    "\n",
    "tmp = 1024\n",
    "tmp_1 = 0\n",
    "for i in range(1024):\n",
    "    print(i + tmp_1, file = f, end = \" \")\n",
    "    for j in range(256):\n",
    "        print(j + tmp, file = f, end = \" \");\n",
    "        print(w_12[j][i], file = f, end = \" \");\n",
    "    print(\"\", file = f)\n",
    "        \n",
    "tmp = 1024 + 256\n",
    "tmp_1 = 1024\n",
    "for i in range(256):\n",
    "    print(i + tmp_1, file = f, end = \" \")\n",
    "    for j in range(10):\n",
    "        print(j + tmp, file = f, end = \" \");\n",
    "        print(w_23[j][i], file = f, end = \" \");\n",
    "    print(\"\", file = f)\n",
    "for i in range(10):\n",
    "    print(tmp + i, file = f)\n",
    "\n",
    "f.close()"
   ]
  },
  {
   "cell_type": "code",
   "execution_count": null,
   "id": "961e9867",
   "metadata": {},
   "outputs": [],
   "source": [
    "f = open('../Models/MNIST_largescale_3/weights.txt', 'w')\n",
    "\n",
    "tmp = 1024\n",
    "tmp_1 = 0\n",
    "for i in range(1024):\n",
    "    print(i + tmp_1, file = f, end = \" \")\n",
    "    for j in range(64):\n",
    "        print(j + tmp, file = f, end = \" \");\n",
    "        print(w_12[j][i], file = f, end = \" \");\n",
    "    print(\"\", file = f)\n",
    "        \n",
    "tmp = 1024 + 64\n",
    "tmp_1 = 1024\n",
    "for i in range(64):\n",
    "    print(i + tmp_1, file = f, end = \" \")\n",
    "    for j in range(10):\n",
    "        print(j + tmp, file = f, end = \" \");\n",
    "        print(w_23[j][i], file = f, end = \" \");\n",
    "    print(\"\", file = f)\n",
    "for i in range(10):\n",
    "    print(tmp + i, file = f)\n",
    "\n",
    "f.close()"
   ]
  },
  {
   "cell_type": "code",
   "execution_count": null,
   "id": "e1f74246",
   "metadata": {},
   "outputs": [],
   "source": [
    "f = open('../Models/MNIST_largescale_2/weights.txt', 'w')\n",
    "\n",
    "tmp = 1024\n",
    "tmp_1 = 0\n",
    "for i in range(1024):\n",
    "    print(i + tmp_1, file = f, end = \" \")\n",
    "    for j in range(10):\n",
    "        print(j + tmp, file = f, end = \" \");\n",
    "        print(w_12[j][i], file = f, end = \" \");\n",
    "    print(\"\", file = f)\n",
    "        \n",
    "for i in range(10):\n",
    "    print(tmp + i, file = f)\n",
    "\n",
    "f.close()"
   ]
  },
  {
   "cell_type": "code",
   "execution_count": null,
   "id": "7dc33cd2",
   "metadata": {},
   "outputs": [],
   "source": [
    "f = open('../Models/weights1.txt', 'w')\n",
    "for i in range(256):\n",
    "    for j in range(64):\n",
    "        print(w_12[j][i], file = f, end = ' ')\n",
    "    print(\"\", file = f)\n",
    "f.close()"
   ]
  },
  {
   "cell_type": "code",
   "execution_count": null,
   "id": "8efa9dee",
   "metadata": {},
   "outputs": [],
   "source": [
    "f = open('../Models/weights2.txt', 'w')\n",
    "for i in range(64):\n",
    "    for j in range(10):\n",
    "        print(w_23[j][i], file = f, end = ' ')\n",
    "    print(\"\", file = f)\n",
    "f.close()"
   ]
  },
  {
   "cell_type": "code",
   "execution_count": 2,
   "id": "0025b4f0",
   "metadata": {},
   "outputs": [
    {
     "name": "stdout",
     "output_type": "stream",
     "text": [
      "Files already downloaded and verified\n"
     ]
    }
   ],
   "source": [
    "import torch\n",
    "import torchvision\n",
    "\n",
    "test_dataset = torchvision.datasets.CIFAR10(\n",
    "        root=\"../Datasets/\",\n",
    "        train=False,\n",
    "        download=True,\n",
    "        transform=torchvision.transforms.Compose([\n",
    "            torchvision.transforms.ToTensor(),\n",
    "            torchvision.transforms.Normalize(\n",
    "                (0.5, 0.5, 0.5), (0.5, 0.5, 0.5))\n",
    "        ])\n",
    "    )\n",
    "\n",
    "test_data_loader = torch.utils.data.DataLoader(\n",
    "        dataset=test_dataset,\n",
    "        batch_size=100,\n",
    "        shuffle=False\n",
    ")"
   ]
  },
  {
   "cell_type": "code",
   "execution_count": 1,
   "id": "6fe7a8bd",
   "metadata": {},
   "outputs": [],
   "source": [
    "import torch\n",
    "import torchvision\n",
    "\n",
    "all_dataset = torchvision.datasets.EuroSAT(\n",
    "        root=\"../Datasets/\",\n",
    "        download=True,\n",
    "        transform=torchvision.transforms.Compose([\n",
    "            torchvision.transforms.ToTensor(),\n",
    "            torchvision.transforms.Normalize(\n",
    "                (0.5, 0.5, 0.5), (0.5, 0.5, 0.5))\n",
    "        ])\n",
    "    )\n",
    "\n",
    "train_dataset, test_dataset = torch.utils.data.random_split(all_dataset, [21600, 5400])\n",
    "\n",
    "test_data_loader = torch.utils.data.DataLoader(\n",
    "        dataset=test_dataset,\n",
    "        batch_size=100,\n",
    "        shuffle=False\n",
    ")"
   ]
  },
  {
   "cell_type": "code",
   "execution_count": 2,
   "id": "d2b1bd44",
   "metadata": {},
   "outputs": [
    {
     "data": {
      "text/plain": [
       "54"
      ]
     },
     "execution_count": 2,
     "metadata": {},
     "output_type": "execute_result"
    }
   ],
   "source": [
    "len(test_data_loader)"
   ]
  },
  {
   "cell_type": "code",
   "execution_count": 3,
   "id": "1da3ec0d",
   "metadata": {},
   "outputs": [
    {
     "name": "stdout",
     "output_type": "stream",
     "text": [
      "54\n"
     ]
    },
    {
     "name": "stderr",
     "output_type": "stream",
     "text": [
      "100%|███████████████████████████████████████████████████████████████████████████████████| 54/54 [08:38<00:00,  9.60s/it]\n"
     ]
    }
   ],
   "source": [
    "from tqdm import tqdm\n",
    "\n",
    "f1 = open('../Datasets/EuroSAT_64/input.txt', 'w')\n",
    "f2 = open('../Datasets/EuroSAT_64/output.txt', 'w')\n",
    "\n",
    "cnt = 0\n",
    "print(len(test_data_loader))\n",
    "for img, label in tqdm(test_data_loader):\n",
    "    cnt += 1;\n",
    "    rg = 100\n",
    "    #if (cnt == 261):\n",
    "    #    rg = 32\n",
    "    for j in range(rg):\n",
    "        print(label[j].tolist(), file = f2)\n",
    "        for k in range(3):\n",
    "            for l in range(64):\n",
    "                for h in range(64):\n",
    "                    print(round(img[j][k][l][h].tolist(), 3), file = f1, end = ' ')\n",
    "    \n",
    "        print(\"\", file = f1)\n",
    "\n",
    "f1.close()\n",
    "f2.close()"
   ]
  },
  {
   "cell_type": "code",
   "execution_count": null,
   "id": "1d5923d0",
   "metadata": {},
   "outputs": [],
   "source": [
    "from spikingjelly.clock_driven import encoding\n",
    "encoder = encoding.PoissonEncoder()\n",
    "cnt = 0\n",
    "f1 = open('../Datasets/MNIST_16/input.txt', 'w')\n",
    "for img, label in test_data_loader:\n",
    "    cnt += 1\n",
    "    #if (cnt > 1):\n",
    "    #    break;\n",
    "    rg = 64\n",
    "    if (cnt > 156):\n",
    "        rg = 16\n",
    "    for i in range(rg):\n",
    "        for j in range(16):\n",
    "            for k in range(16): \n",
    "                print(int(encoder(img[i][0][j][k]).float().tolist()), file = f1, end = ' ')\n",
    "        print(\"\", file = f1)\n",
    "f1.close()\n",
    "print(cnt * 64)"
   ]
  },
  {
   "cell_type": "code",
   "execution_count": null,
   "id": "38741940",
   "metadata": {},
   "outputs": [],
   "source": [
    "f2 = open('../Datasets/MNIST_16/output.txt', 'w')\n",
    "cnt = 0;\n",
    "for img, label in test_data_loader:\n",
    "    cnt += 1\n",
    "    #if (cnt > 1):\n",
    "    #    break;\n",
    "    rg = 64\n",
    "    if (cnt > 156):\n",
    "        rg = 16\n",
    "    for i in range(rg):\n",
    "        a = int(label[i].tolist())\n",
    "        print(a, file = f2)\n",
    "f2.close()"
   ]
  },
  {
   "cell_type": "code",
   "execution_count": null,
   "id": "965f5b76",
   "metadata": {},
   "outputs": [],
   "source": [
    "import math\n",
    "device = torch.device('cpu')\n",
    "\n",
    "for p in model[1].parameters():\n",
    "    for v in p.data:\n",
    "        print(v)\n",
    "\n",
    "x = torch.Tensor([-1, -2, -3], device = device)\n",
    "x.apply_(lambda x: x if x >= 0 else 0.01 * math.exp(x))\n",
    "#for v in x:\n",
    "#    v = -v\n",
    "#    print(v)"
   ]
  },
  {
   "cell_type": "code",
   "execution_count": null,
   "id": "f7db6758",
   "metadata": {},
   "outputs": [],
   "source": [
    "import torch"
   ]
  },
  {
   "cell_type": "code",
   "execution_count": 10,
   "id": "62fea771",
   "metadata": {},
   "outputs": [
    {
     "data": {
      "text/plain": [
       "Sequential(\n",
       "  (0): Flatten(start_dim=1, end_dim=-1)\n",
       "  (1): Linear(in_features=3072, out_features=1024, bias=False)\n",
       "  (2): LIFNode(\n",
       "    v_threshold=1.0, v_reset=0.0, detach_reset=False, tau=2.0\n",
       "    (surrogate_function): Sigmoid(alpha=4.0, spiking=True)\n",
       "  )\n",
       "  (3): Linear(in_features=1024, out_features=256, bias=False)\n",
       "  (4): LIFNode(\n",
       "    v_threshold=1.0, v_reset=0.0, detach_reset=False, tau=2.0\n",
       "    (surrogate_function): Sigmoid(alpha=4.0, spiking=True)\n",
       "  )\n",
       "  (5): Linear(in_features=256, out_features=10, bias=False)\n",
       "  (6): LIFNode(\n",
       "    v_threshold=1.0, v_reset=0.0, detach_reset=False, tau=2.0\n",
       "    (surrogate_function): Sigmoid(alpha=4.0, spiking=True)\n",
       "  )\n",
       ")"
      ]
     },
     "execution_count": 10,
     "metadata": {},
     "output_type": "execute_result"
    }
   ],
   "source": [
    "model = torch.load(\"../Models/lif_snn_SVHN.ckpt\")\n",
    "model.eval()"
   ]
  },
  {
   "cell_type": "code",
   "execution_count": 11,
   "id": "3f3787b8",
   "metadata": {},
   "outputs": [],
   "source": [
    "w_12 = model[1].weight.detach().cpu().numpy()\n",
    "w_23 = model[3].weight.detach().cpu().numpy()\n",
    "w_34 = model[5].weight.detach().cpu().numpy()\n",
    "\n",
    "f = open('../Models/SVHN/weights.txt', 'w')\n",
    "\n",
    "tmp = 3072\n",
    "tmp_1 = 0\n",
    "for i in range(3072):\n",
    "    print(i + tmp_1, file = f, end = \" \")\n",
    "    for j in range(1024):\n",
    "        print(j + tmp, file = f, end = \" \");\n",
    "        print(w_12[j][i], file = f, end = \" \");\n",
    "    print(\"\", file = f)\n",
    "        \n",
    "tmp = 3072 + 1024\n",
    "tmp_1 = 3072\n",
    "for i in range(1024):\n",
    "    print(i + tmp_1, file = f, end = \" \")\n",
    "    for j in range(256):\n",
    "        print(j + tmp, file = f, end = \" \");\n",
    "        print(w_23[j][i], file = f, end = \" \");\n",
    "    print(\"\", file = f)\n",
    "\n",
    "tmp = 3072 + 1024 + 256\n",
    "tmp_1 = 3072 + 1024\n",
    "for i in range(256):\n",
    "    print(i + tmp_1, file = f, end = \" \")\n",
    "    for j in range(10):\n",
    "        print(j + tmp, file = f, end = \" \");\n",
    "        print(w_34[j][i], file = f, end = \" \");\n",
    "    print(\"\", file = f)\n",
    "\n",
    "for i in range(10):\n",
    "    print(tmp + i, file = f)\n",
    "\n",
    "f.close()"
   ]
  },
  {
   "cell_type": "code",
   "execution_count": null,
   "id": "7e565c0b",
   "metadata": {},
   "outputs": [],
   "source": [
    "model = torch.load(\"../Models/lif_snn_EuroSAT.ckpt\")\n",
    "model.eval()"
   ]
  },
  {
   "cell_type": "code",
   "execution_count": null,
   "id": "94da8612",
   "metadata": {},
   "outputs": [],
   "source": []
  }
 ],
 "metadata": {
  "kernelspec": {
   "display_name": "Python [conda env:SpikingJellyenv] *",
   "language": "python",
   "name": "conda-env-SpikingJellyenv-py"
  },
  "language_info": {
   "codemirror_mode": {
    "name": "ipython",
    "version": 3
   },
   "file_extension": ".py",
   "mimetype": "text/x-python",
   "name": "python",
   "nbconvert_exporter": "python",
   "pygments_lexer": "ipython3",
   "version": "3.7.12"
  }
 },
 "nbformat": 4,
 "nbformat_minor": 5
}
