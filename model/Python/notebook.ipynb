{
 "cells": [
  {
   "cell_type": "markdown",
   "id": "18128f2f",
   "metadata": {},
   "source": [
    "# Export input.txt and output.txt"
   ]
  },
  {
   "cell_type": "code",
   "execution_count": 1,
   "id": "c9b90eb4",
   "metadata": {},
   "outputs": [],
   "source": [
    "import torch\n",
    "import torchvision\n",
    "from tqdm import tqdm\n",
    "from spikingjelly.clock_driven import encoding"
   ]
  },
  {
   "cell_type": "markdown",
   "id": "3be2d73f",
   "metadata": {},
   "source": [
    "## For MNIST16"
   ]
  },
  {
   "cell_type": "code",
   "execution_count": 7,
   "id": "26bb59ef",
   "metadata": {},
   "outputs": [],
   "source": [
    "test_dataset = torchvision.datasets.MNIST(\n",
    "        root=\"../Datasets/\",\n",
    "        train=False,\n",
    "        download=True,\n",
    "        transform=torchvision.transforms.Compose([\n",
    "            torchvision.transforms.Resize(16),\n",
    "            torchvision.transforms.ToTensor(),\n",
    "            torchvision.transforms.Normalize(\n",
    "                (0.1307,), (0.3081,))\n",
    "        ])\n",
    "    )\n",
    "test_data_loader = torch.utils.data.DataLoader(\n",
    "        dataset=test_dataset,\n",
    "        batch_size=100,\n",
    "        shuffle=False\n",
    "    )"
   ]
  },
  {
   "cell_type": "code",
   "execution_count": 8,
   "id": "d7dfb877",
   "metadata": {},
   "outputs": [
    {
     "name": "stderr",
     "output_type": "stream",
     "text": [
      "100%|█████████████████████████████████████████████████████████████████████████████████| 100/100 [37:10<00:00, 22.30s/it]\n"
     ]
    }
   ],
   "source": [
    "f1 = open('../Datasets/MNIST_16/input.txt', 'w')\n",
    "f2 = open('../Datasets/MNIST_16/output.txt', 'w')\n",
    "\n",
    "encoder = encoding.PoissonEncoder();\n",
    "\n",
    "for img, label in tqdm(test_data_loader):\n",
    "    for i in range(100):\n",
    "        print(label[i].tolist(), file = f2)\n",
    "        T = 999;\n",
    "        total_spike = encoder(img).float()\n",
    "        for t in range(T):\n",
    "            total_spike += encoder(img).float()\n",
    "        for j in range(16):\n",
    "            for k in range(16): \n",
    "                print(int(total_spike[i][0][j][k].tolist()), file = f1, end = ' ')\n",
    "        print(\"\", file = f1)\n",
    "f1.close()\n",
    "f2.close()"
   ]
  },
  {
   "cell_type": "markdown",
   "id": "98963418",
   "metadata": {},
   "source": [
    "## For MNIST32"
   ]
  },
  {
   "cell_type": "code",
   "execution_count": 9,
   "id": "92eae8ef",
   "metadata": {},
   "outputs": [],
   "source": [
    "test_dataset = torchvision.datasets.MNIST(\n",
    "        root=\"../Datasets/\",\n",
    "        train=False,\n",
    "        download=True,\n",
    "        transform=torchvision.transforms.Compose([\n",
    "            torchvision.transforms.Resize(32),\n",
    "            torchvision.transforms.ToTensor(),\n",
    "            torchvision.transforms.Normalize(\n",
    "                (0.1307,), (0.3081,))\n",
    "        ])\n",
    "    )\n",
    "test_data_loader = torch.utils.data.DataLoader(\n",
    "        dataset=test_dataset,\n",
    "        batch_size=100,\n",
    "        shuffle=False\n",
    "    )"
   ]
  },
  {
   "cell_type": "code",
   "execution_count": 10,
   "id": "301f0499",
   "metadata": {},
   "outputs": [
    {
     "name": "stderr",
     "output_type": "stream",
     "text": [
      "100%|███████████████████████████████████████████████████████████████████████████████| 100/100 [2:26:05<00:00, 87.65s/it]\n"
     ]
    }
   ],
   "source": [
    "f1 = open('../Datasets/MNIST_32/input.txt', 'w')\n",
    "f2 = open('../Datasets/MNIST_32/output.txt', 'w')\n",
    "\n",
    "encoder = encoding.PoissonEncoder();\n",
    "\n",
    "for img, label in tqdm(test_data_loader):\n",
    "    for i in range(100):\n",
    "        print(label[i].tolist(), file = f2)\n",
    "        T = 999;\n",
    "        total_spike = encoder(img).float()\n",
    "        for t in range(T):\n",
    "            total_spike += encoder(img).float()\n",
    "        for j in range(32):\n",
    "            for k in range(32): \n",
    "                print(int(total_spike[i][0][j][k].tolist()), file = f1, end = ' ')\n",
    "        print(\"\", file = f1)\n",
    "f1.close()\n",
    "f2.close()"
   ]
  },
  {
   "cell_type": "markdown",
   "id": "c08216f1",
   "metadata": {},
   "source": [
    "## For Fashion-MNIST"
   ]
  },
  {
   "cell_type": "code",
   "execution_count": 11,
   "id": "f33dc946",
   "metadata": {},
   "outputs": [],
   "source": [
    "test_dataset = torchvision.datasets.FashionMNIST(\n",
    "        root=\"../Datasets/\",\n",
    "        train=False,\n",
    "        download=True,\n",
    "        transform=torchvision.transforms.Compose([\n",
    "            torchvision.transforms.ToTensor(),\n",
    "            torchvision.transforms.Normalize(\n",
    "                (0.1307,), (0.3081,))\n",
    "        ])\n",
    "    )\n",
    "test_data_loader = torch.utils.data.DataLoader(\n",
    "        dataset=test_dataset,\n",
    "        batch_size=100,\n",
    "        shuffle=False\n",
    "    )"
   ]
  },
  {
   "cell_type": "code",
   "execution_count": 12,
   "id": "6cfc7bdc",
   "metadata": {},
   "outputs": [
    {
     "name": "stderr",
     "output_type": "stream",
     "text": [
      "100%|███████████████████████████████████████████████████████████████████████████████| 100/100 [1:54:51<00:00, 68.91s/it]\n"
     ]
    }
   ],
   "source": [
    "f1 = open('../Datasets/FashionMNIST/input.txt', 'w')\n",
    "f2 = open('../Datasets/FashionMNIST/output.txt', 'w')\n",
    "\n",
    "encoder = encoding.PoissonEncoder();\n",
    "\n",
    "for img, label in tqdm(test_data_loader):\n",
    "    for i in range(100):\n",
    "        print(label[i].tolist(), file = f2)\n",
    "        T = 999;\n",
    "        total_spike = encoder(img).float()\n",
    "        for t in range(T):\n",
    "            total_spike += encoder(img).float()\n",
    "        for j in range(28):\n",
    "            for k in range(28): \n",
    "                print(int(total_spike[i][0][j][k].tolist()), file = f1, end = ' ')\n",
    "        print(\"\", file = f1)\n",
    "f1.close()\n",
    "f2.close()"
   ]
  },
  {
   "cell_type": "markdown",
   "id": "e84b55d8",
   "metadata": {},
   "source": [
    "## For SVHN"
   ]
  },
  {
   "cell_type": "code",
   "execution_count": 13,
   "id": "689ae979",
   "metadata": {},
   "outputs": [
    {
     "name": "stdout",
     "output_type": "stream",
     "text": [
      "Using downloaded and verified file: ../Datasets/test_32x32.mat\n"
     ]
    }
   ],
   "source": [
    "test_dataset = torchvision.datasets.SVHN(\n",
    "        root=\"../Datasets/\",\n",
    "        split=\"test\",\n",
    "        download=True,\n",
    "        transform=torchvision.transforms.Compose([\n",
    "            torchvision.transforms.ToTensor(),\n",
    "            torchvision.transforms.Normalize(\n",
    "                (0.5, 0.5, 0.5), (0.5, 0.5, 0.5))\n",
    "        ])\n",
    "    )\n",
    "test_data_loader = torch.utils.data.DataLoader(\n",
    "        dataset=test_dataset,\n",
    "        batch_size=100,\n",
    "        shuffle=False\n",
    "    )"
   ]
  },
  {
   "cell_type": "code",
   "execution_count": 16,
   "id": "22dd0072",
   "metadata": {},
   "outputs": [
    {
     "name": "stderr",
     "output_type": "stream",
     "text": [
      "100%|███████████████████████████████████████████████████████████████████████████████| 261/261 [1:36:59<00:00, 22.30s/it]\n"
     ]
    }
   ],
   "source": [
    "f1 = open('../Datasets/SVHN/input.txt', 'w')\n",
    "f2 = open('../Datasets/SVHN/output.txt', 'w')\n",
    "\n",
    "cnt = 0;\n",
    "for img, label in tqdm(test_data_loader):\n",
    "    cnt += 1\n",
    "    rg = 100\n",
    "    if (cnt == 261):\n",
    "        rg = 32\n",
    "    for i in range(rg):\n",
    "        print(label[j].tolist(), file = f2)\n",
    "        T = 99;\n",
    "        total_spike = encoder(img).float()\n",
    "        for t in range(T):\n",
    "            total_spike += encoder(img).float()\n",
    "        for l in range(3):\n",
    "            for j in range(32):\n",
    "                for k in range(32):\n",
    "                    print(int(total_spike[i][l][j][k].tolist() * 10), file = f1, end = ' ')\n",
    "    \n",
    "        print(\"\", file = f1)\n",
    "\n",
    "f1.close()\n",
    "f2.close()"
   ]
  },
  {
   "cell_type": "markdown",
   "id": "f0017ac4",
   "metadata": {},
   "source": [
    "##  For CIFAR-10"
   ]
  },
  {
   "cell_type": "code",
   "execution_count": 17,
   "id": "5ba524bc",
   "metadata": {},
   "outputs": [
    {
     "name": "stdout",
     "output_type": "stream",
     "text": [
      "Files already downloaded and verified\n"
     ]
    }
   ],
   "source": [
    "test_dataset = torchvision.datasets.CIFAR10(\n",
    "        root=\"../Datasets/\",\n",
    "        train=False,\n",
    "        download=True,\n",
    "        transform=torchvision.transforms.Compose([\n",
    "            torchvision.transforms.ToTensor(),\n",
    "            torchvision.transforms.Normalize(\n",
    "                (0.5, 0.5, 0.5), (0.5, 0.5, 0.5))\n",
    "        ])\n",
    "    )\n",
    "test_data_loader = torch.utils.data.DataLoader(\n",
    "        dataset=test_dataset,\n",
    "        batch_size=100,\n",
    "        shuffle=False\n",
    "    )"
   ]
  },
  {
   "cell_type": "code",
   "execution_count": 18,
   "id": "b8699878",
   "metadata": {},
   "outputs": [
    {
     "name": "stderr",
     "output_type": "stream",
     "text": [
      "100%|█████████████████████████████████████████████████████████████████████████████████| 100/100 [36:44<00:00, 22.04s/it]\n"
     ]
    }
   ],
   "source": [
    "f1 = open('../Datasets/CIFAR10/input.txt', 'w')\n",
    "f2 = open('../Datasets/CIFAR10/output.txt', 'w')\n",
    "\n",
    "for img, label in tqdm(test_data_loader):\n",
    "    for i in range(100):\n",
    "        print(label[j].tolist(), file = f2)\n",
    "        T = 99;\n",
    "        total_spike = encoder(img).float()\n",
    "        for t in range(T):\n",
    "            total_spike += encoder(img).float()\n",
    "        for l in range(3):\n",
    "            for j in range(32):\n",
    "                for k in range(32):\n",
    "                    print(int(total_spike[i][l][j][k].tolist() * 10), file = f1, end = ' ')\n",
    "    \n",
    "        print(\"\", file = f1)\n",
    "\n",
    "f1.close()\n",
    "f2.close()"
   ]
  },
  {
   "cell_type": "markdown",
   "id": "614e2a54",
   "metadata": {},
   "source": [
    "## For EuroSAT"
   ]
  },
  {
   "cell_type": "code",
   "execution_count": 19,
   "id": "b5ef97e1",
   "metadata": {},
   "outputs": [],
   "source": [
    "all_dataset = torchvision.datasets.EuroSAT(\n",
    "        root=\"../Datasets/\",\n",
    "        download=True,\n",
    "        transform=torchvision.transforms.Compose([\n",
    "            torchvision.transforms.ToTensor(),\n",
    "            torchvision.transforms.Normalize(\n",
    "                (0.5, 0.5, 0.5), (0.5, 0.5, 0.5))\n",
    "        ])\n",
    "    )\n",
    "\n",
    "train_dataset, test_dataset = torch.utils.data.random_split(all_dataset, [21600, 5400])\n",
    "\n",
    "test_data_loader = torch.utils.data.DataLoader(\n",
    "        dataset=test_dataset,\n",
    "        batch_size=100,\n",
    "        shuffle=False\n",
    ")"
   ]
  },
  {
   "cell_type": "code",
   "execution_count": 20,
   "id": "66edb17e",
   "metadata": {},
   "outputs": [
    {
     "name": "stderr",
     "output_type": "stream",
     "text": [
      "100%|█████████████████████████████████████████████████████████████████████████████████| 54/54 [1:24:48<00:00, 94.23s/it]\n"
     ]
    }
   ],
   "source": [
    "f1 = open('../Datasets/EuroSAT_64/input.txt', 'w')\n",
    "f2 = open('../Datasets/EuroSAT_64/output.txt', 'w')\n",
    "\n",
    "for img, label in tqdm(test_data_loader):\n",
    "    for i in range(100):\n",
    "        print(label[j].tolist(), file = f2)\n",
    "        T = 99;\n",
    "        total_spike = encoder(img).float()\n",
    "        for t in range(T):\n",
    "            total_spike += encoder(img).float()\n",
    "        for l in range(3):\n",
    "            for j in range(64):\n",
    "                for k in range(64):\n",
    "                    print(int(total_spike[i][l][j][k].tolist() * 10), file = f1, end = ' ')\n",
    "    \n",
    "        print(\"\", file = f1)\n",
    "\n",
    "f1.close()\n",
    "f2.close()"
   ]
  },
  {
   "cell_type": "markdown",
   "id": "a8c37f6e",
   "metadata": {},
   "source": [
    "# Extract Weights of Model"
   ]
  },
  {
   "cell_type": "markdown",
   "id": "ecf91683",
   "metadata": {},
   "source": [
    "## Fashion-MNIST"
   ]
  },
  {
   "cell_type": "code",
   "execution_count": 21,
   "id": "5e2d9541",
   "metadata": {},
   "outputs": [],
   "source": [
    "# from lif_snn_fashion_mnist.ckpt 784 * 196 * 10\n",
    "model = torch.load(\"../Models/lif_snn_fashion_mnist.ckpt\")\n",
    "\n",
    "w_12 = model[1].weight.detach().cpu().numpy()\n",
    "w_23 = model[3].weight.detach().cpu().numpy()\n",
    "\n",
    "f = open('../Models/FashionMNIST/weights.txt', 'w')\n",
    "\n",
    "tmp = 784\n",
    "tmp_1 = 0\n",
    "for i in range(784):\n",
    "    print(i + tmp_1, file = f, end = \" \")\n",
    "    for j in range(196):\n",
    "        print(j + tmp, file = f, end = \" \");\n",
    "        print(w_12[j][i], file = f, end = \" \");\n",
    "    print(\"\", file = f)\n",
    "        \n",
    "tmp = 784 + 196\n",
    "tmp_1 = 784\n",
    "for i in range(196):\n",
    "    print(i + tmp_1, file = f, end = \" \")\n",
    "    for j in range(10):\n",
    "        print(j + tmp, file = f, end = \" \");\n",
    "        print(w_23[j][i], file = f, end = \" \");\n",
    "    print(\"\", file = f)\n",
    "for i in range(10):\n",
    "    print(tmp + i, file = f)\n",
    "\n",
    "f.close()"
   ]
  },
  {
   "cell_type": "markdown",
   "id": "8eba14a1",
   "metadata": {},
   "source": [
    "## SVHN"
   ]
  },
  {
   "cell_type": "code",
   "execution_count": 22,
   "id": "f941f5e5",
   "metadata": {},
   "outputs": [],
   "source": [
    "# from lif_snn_SVHN.ckpt 3072 * 192 * 10\n",
    "model = torch.load(\"../Models/lif_snn_SVHN.ckpt\")\n",
    "\n",
    "w_12 = model[1].weight.detach().cpu().numpy()\n",
    "w_23 = model[3].weight.detach().cpu().numpy()\n",
    "\n",
    "f = open('../Models/SVHN/weights.txt', 'w')\n",
    "\n",
    "tmp = 3072\n",
    "tmp_1 = 0\n",
    "for i in range(3072):\n",
    "    print(i + tmp_1, file = f, end = \" \")\n",
    "    for j in range(192):\n",
    "        print(j + tmp, file = f, end = \" \");\n",
    "        print(w_12[j][i], file = f, end = \" \");\n",
    "    print(\"\", file = f)\n",
    "        \n",
    "tmp = 3072 + 192\n",
    "tmp_1 = 3072\n",
    "for i in range(192):\n",
    "    print(i + tmp_1, file = f, end = \" \")\n",
    "    for j in range(10):\n",
    "        print(j + tmp, file = f, end = \" \");\n",
    "        print(w_23[j][i], file = f, end = \" \");\n",
    "    print(\"\", file = f)\n",
    "for i in range(10):\n",
    "    print(tmp + i, file = f)\n",
    "\n",
    "f.close()"
   ]
  },
  {
   "cell_type": "markdown",
   "id": "0751a43c",
   "metadata": {},
   "source": [
    "## CIFAR-10"
   ]
  },
  {
   "cell_type": "code",
   "execution_count": 2,
   "id": "ba0b10a4",
   "metadata": {},
   "outputs": [],
   "source": [
    "# from lif_snn_cifar10.ckpt 3072 * 384 * 10\n",
    "model = torch.load(\"../Models/lif_snn_cifar10.ckpt\")\n",
    "\n",
    "w_12 = model[1].weight.detach().cpu().numpy()\n",
    "w_23 = model[3].weight.detach().cpu().numpy()\n",
    "\n",
    "f = open('../Models/CIFAR10/weights.txt', 'w')\n",
    "\n",
    "tmp = 3072\n",
    "tmp_1 = 0\n",
    "for i in range(3072):\n",
    "    print(i + tmp_1, file = f, end = \" \")\n",
    "    for j in range(384):\n",
    "        print(j + tmp, file = f, end = \" \");\n",
    "        print(w_12[j][i], file = f, end = \" \");\n",
    "    print(\"\", file = f)\n",
    "        \n",
    "tmp = 3072 + 384\n",
    "tmp_1 = 3072\n",
    "for i in range(384):\n",
    "    print(i + tmp_1, file = f, end = \" \")\n",
    "    for j in range(10):\n",
    "        print(j + tmp, file = f, end = \" \");\n",
    "        print(w_23[j][i], file = f, end = \" \");\n",
    "    print(\"\", file = f)\n",
    "for i in range(10):\n",
    "    print(tmp + i, file = f)\n",
    "\n",
    "f.close()"
   ]
  },
  {
   "cell_type": "markdown",
   "id": "46c2c7c9",
   "metadata": {},
   "source": [
    "## EuroSAT"
   ]
  },
  {
   "cell_type": "code",
   "execution_count": 3,
   "id": "dbcd2c2a",
   "metadata": {},
   "outputs": [],
   "source": [
    "# from lif_snn_EuroSAT.ckpt 12288 * 128 * 10\n",
    "model = torch.load(\"../Models/lif_snn_EuroSAT.ckpt\")\n",
    "\n",
    "w_12 = model[1].weight.detach().cpu().numpy()\n",
    "w_23 = model[3].weight.detach().cpu().numpy()\n",
    "\n",
    "f = open('../Models/EuroSAT/weights.txt', 'w')\n",
    "\n",
    "tmp = 12288\n",
    "tmp_1 = 0\n",
    "for i in range(12288):\n",
    "    print(i + tmp_1, file = f, end = \" \")\n",
    "    for j in range(128):\n",
    "        print(j + tmp, file = f, end = \" \");\n",
    "        print(w_12[j][i], file = f, end = \" \");\n",
    "    print(\"\", file = f)\n",
    "        \n",
    "tmp = 12288 + 128\n",
    "tmp_1 = 12288\n",
    "for i in range(128):\n",
    "    print(i + tmp_1, file = f, end = \" \")\n",
    "    for j in range(10):\n",
    "        print(j + tmp, file = f, end = \" \");\n",
    "        print(w_23[j][i], file = f, end = \" \");\n",
    "    print(\"\", file = f)\n",
    "for i in range(10):\n",
    "    print(tmp + i, file = f)\n",
    "\n",
    "f.close()"
   ]
  },
  {
   "cell_type": "markdown",
   "id": "d9b7a35b",
   "metadata": {},
   "source": [
    "# Create Dummy Networks"
   ]
  },
  {
   "cell_type": "markdown",
   "id": "8f161cd1",
   "metadata": {},
   "source": [
    "## 5 layers"
   ]
  },
  {
   "cell_type": "code",
   "execution_count": 1,
   "id": "1f2a3363",
   "metadata": {},
   "outputs": [],
   "source": [
    "# 1024 * 512 * 256 * 128 * 64\n",
    "f = open('../Models/Dummy_5/weights.txt', 'w')\n",
    "\n",
    "tmp = 1024\n",
    "tmp_1 = 0\n",
    "for i in range(1024):\n",
    "    print(i + tmp_1, file = f, end = \" \")\n",
    "    for j in range(512):\n",
    "        print(j + tmp, file = f, end = \" \");\n",
    "        print(0, file = f, end = \" \");\n",
    "    print(\"\", file = f)\n",
    "        \n",
    "tmp = 1024 + 512\n",
    "tmp_1 = 1024\n",
    "for i in range(512):\n",
    "    print(i + tmp_1, file = f, end = \" \")\n",
    "    for j in range(256):\n",
    "        print(j + tmp, file = f, end = \" \");\n",
    "        print(0, file = f, end = \" \");\n",
    "    print(\"\", file = f)\n",
    "    \n",
    "tmp = 1024 + 512 + 256\n",
    "tmp_1 = 1024 + 512\n",
    "for i in range(256):\n",
    "    print(i + tmp_1, file = f, end = \" \")\n",
    "    for j in range(128):\n",
    "        print(j + tmp, file = f, end = \" \");\n",
    "        print(0, file = f, end = \" \");\n",
    "    print(\"\", file = f)\n",
    "    \n",
    "tmp = 1024 + 512 + 256 + 128\n",
    "tmp_1 = 1024 + 512 + 256\n",
    "for i in range(128):\n",
    "    print(i + tmp_1, file = f, end = \" \")\n",
    "    for j in range(64):\n",
    "        print(j + tmp, file = f, end = \" \");\n",
    "        print(0, file = f, end = \" \");\n",
    "    print(\"\", file = f)\n",
    "    \n",
    "for i in range(64):\n",
    "    print(tmp + i, file = f)\n",
    "f.close()"
   ]
  },
  {
   "cell_type": "markdown",
   "id": "ab8f2b61",
   "metadata": {},
   "source": [
    "## 4 layers"
   ]
  },
  {
   "cell_type": "code",
   "execution_count": 2,
   "id": "280fd4a7",
   "metadata": {},
   "outputs": [],
   "source": [
    "# 1024 * 512 * 256 * 64\n",
    "f = open('../Models/Dummy_4/weights.txt', 'w')\n",
    "\n",
    "tmp = 1024\n",
    "tmp_1 = 0\n",
    "for i in range(1024):\n",
    "    print(i + tmp_1, file = f, end = \" \")\n",
    "    for j in range(512):\n",
    "        print(j + tmp, file = f, end = \" \");\n",
    "        print(0, file = f, end = \" \");\n",
    "    print(\"\", file = f)\n",
    "        \n",
    "tmp = 1024 + 512\n",
    "tmp_1 = 1024\n",
    "for i in range(512):\n",
    "    print(i + tmp_1, file = f, end = \" \")\n",
    "    for j in range(256):\n",
    "        print(j + tmp, file = f, end = \" \");\n",
    "        print(0, file = f, end = \" \");\n",
    "    print(\"\", file = f)\n",
    "    \n",
    "tmp = 1024 + 512 + 256\n",
    "tmp_1 = 1024 + 512\n",
    "for i in range(256):\n",
    "    print(i + tmp_1, file = f, end = \" \")\n",
    "    for j in range(64):\n",
    "        print(j + tmp, file = f, end = \" \");\n",
    "        print(0, file = f, end = \" \");\n",
    "    print(\"\", file = f)\n",
    "    \n",
    "for i in range(64):\n",
    "    print(tmp + i, file = f)\n",
    "f.close()"
   ]
  },
  {
   "cell_type": "markdown",
   "id": "457bfe85",
   "metadata": {},
   "source": [
    "## 3 layers"
   ]
  },
  {
   "cell_type": "code",
   "execution_count": 1,
   "id": "f2169294",
   "metadata": {},
   "outputs": [],
   "source": [
    "# 1024 * 256 * 64\n",
    "f = open('../Models/Dummy_3/weights.txt', 'w')\n",
    "\n",
    "tmp = 1024\n",
    "tmp_1 = 0\n",
    "for i in range(1024):\n",
    "    print(i + tmp_1, file = f, end = \" \")\n",
    "    for j in range(256):\n",
    "        print(j + tmp, file = f, end = \" \");\n",
    "        print(0, file = f, end = \" \");\n",
    "    print(\"\", file = f)\n",
    "        \n",
    "tmp = 1024 + 256\n",
    "tmp_1 = 1024\n",
    "for i in range(256):\n",
    "    print(i + tmp_1, file = f, end = \" \")\n",
    "    for j in range(64):\n",
    "        print(j + tmp, file = f, end = \" \");\n",
    "        print(0, file = f, end = \" \");\n",
    "    print(\"\", file = f)\n",
    "    \n",
    "for i in range(64):\n",
    "    print(tmp + i, file = f)\n",
    "f.close()"
   ]
  },
  {
   "cell_type": "markdown",
   "id": "439cb6ec",
   "metadata": {},
   "source": [
    "## 2 layers"
   ]
  },
  {
   "cell_type": "code",
   "execution_count": 4,
   "id": "98b6e960",
   "metadata": {},
   "outputs": [],
   "source": [
    "# 1024 * 64\n",
    "f = open('../Models/Dummy_2/weights.txt', 'w')\n",
    "\n",
    "tmp = 1024\n",
    "tmp_1 = 0\n",
    "for i in range(1024):\n",
    "    print(i + tmp_1, file = f, end = \" \")\n",
    "    for j in range(64):\n",
    "        print(j + tmp, file = f, end = \" \");\n",
    "        print(0, file = f, end = \" \");\n",
    "    print(\"\", file = f)\n",
    "    \n",
    "for i in range(64):\n",
    "    print(tmp + i, file = f)\n",
    "f.close()"
   ]
  },
  {
   "cell_type": "code",
   "execution_count": null,
   "id": "0115f728",
   "metadata": {},
   "outputs": [],
   "source": []
  }
 ],
 "metadata": {
  "kernelspec": {
   "display_name": "Python [conda env:SpikingJellyenv] *",
   "language": "python",
   "name": "conda-env-SpikingJellyenv-py"
  },
  "language_info": {
   "codemirror_mode": {
    "name": "ipython",
    "version": 3
   },
   "file_extension": ".py",
   "mimetype": "text/x-python",
   "name": "python",
   "nbconvert_exporter": "python",
   "pygments_lexer": "ipython3",
   "version": "3.7.12"
  }
 },
 "nbformat": 4,
 "nbformat_minor": 5
}
